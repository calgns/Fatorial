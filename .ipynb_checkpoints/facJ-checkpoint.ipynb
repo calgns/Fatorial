{
 "cells": [
  {
   "cell_type": "code",
   "execution_count": 3,
   "metadata": {},
   "outputs": [
    {
     "name": "stdout",
     "output_type": "stream",
     "text": [
      "4.65 x 3.65 x 2.65 x 1.65 x 1 =  74.21\n"
     ]
    }
   ],
   "source": [
    "fatorial = 1\n",
    "contador = 4.65\n",
    "\n",
    "while contador > 1:\n",
    "    # um jeito de fazer as coisas print(f'{contador:,.2f} x ', end='').\n",
    "    print('%g x ' % contador, end='')  \n",
    "    fatorial *= contador\n",
    "    contador -= 1\n",
    "print(\"1 = \",round(fatorial,2))\n"
   ]
  },
  {
   "cell_type": "code",
   "execution_count": 2,
   "metadata": {},
   "outputs": [
    {
     "name": "stdout",
     "output_type": "stream",
     "text": [
      "4.65 x 3.65 x 2.65 x 1.65 x 1 =  74.21\n"
     ]
    }
   ],
   "source": [
    "fatorial = 1\n",
    "contador = 4.65\n",
    "\n",
    "while contador > 1:\n",
    "    print(f'{contador:,.2f} x ', end='')\n",
    "    fatorial *= contador\n",
    "    contador -= 1\n",
    "print(\"1 = \",round(fatorial,2))\n"
   ]
  },
  {
   "cell_type": "code",
   "execution_count": 12,
   "metadata": {},
   "outputs": [
    {
     "name": "stdout",
     "output_type": "stream",
     "text": [
      "dé um numero: 6\n",
      "6! = 6 x 5 x 4 x 3 x 2 x 1 = 720\n"
     ]
    }
   ],
   "source": [
    "fatorial = 1\n",
    "contador = int(input(\"dé um numero: \"))\n",
    "print(contador,end=\"! = \")\n",
    "while contador > 1:\n",
    "    print('{} x '.format(contador), end='') \n",
    "    fatorial *= contador\n",
    "    contador -= 1\n",
    "print(\"1 =\",round(fatorial,2))\n"
   ]
  },
  {
   "cell_type": "code",
   "execution_count": 16,
   "metadata": {},
   "outputs": [
    {
     "name": "stdout",
     "output_type": "stream",
     "text": [
      "dé um numero: 6.25\n",
      "6.25! = 6.25 x 5.25 x 4.25 x 3.25 x 2.25 x 1.25 x 1 = 1274.69\n"
     ]
    }
   ],
   "source": [
    "fatorial = 1\n",
    "contador = float(input(\"dé um numero: \"))\n",
    "print(contador,end=\"! = \")\n",
    "while contador > 1:\n",
    "    print('{} x '.format(contador), end='') \n",
    "    fatorial *= contador\n",
    "    contador -= 1\n",
    "print(\"1 =\",round(fatorial,2))\n"
   ]
  },
  {
   "cell_type": "code",
   "execution_count": 28,
   "metadata": {},
   "outputs": [
    {
     "name": "stdout",
     "output_type": "stream",
     "text": [
      "dé um numero: 5.1\n",
      "5.1! = 5.1 x 4.1 x 3.1 x 2.1 x 1.1 x 1 = 149.74\n"
     ]
    }
   ],
   "source": [
    "fatorial = 1\n",
    "contador = float(input(\"dé um numero: \"))\n",
    "print(contador,end=\"! = \")\n",
    "\n",
    "while contador > 1:\n",
    "    print('%g x '%contador, end='') \n",
    "    fatorial *= contador\n",
    "    contador -= 1\n",
    "print(\"1 =\",round(fatorial,2))\n"
   ]
  },
  {
   "cell_type": "code",
   "execution_count": 32,
   "metadata": {},
   "outputs": [
    {
     "name": "stdout",
     "output_type": "stream",
     "text": [
      "dé um numero: 5.25\n",
      "5.25! = 5.250000 x 4.250000 x 3.250000 x 2.250000 x 1.250000 x 1 = 203.95\n"
     ]
    }
   ],
   "source": [
    "fatorial = 1\n",
    "contador = float(input(\"dé um numero: \"))\n",
    "print(contador,end=\"! = \")\n",
    "\n",
    "while contador > 1:\n",
    "    print('%f x '%contador, end='') \n",
    "    fatorial *= contador\n",
    "    contador -= 1\n",
    "print(\"1 =\",round(fatorial,2))\n"
   ]
  },
  {
   "cell_type": "code",
   "execution_count": 33,
   "metadata": {},
   "outputs": [
    {
     "name": "stdout",
     "output_type": "stream",
     "text": [
      "dé um numero: 5.5\n",
      "5.5! = 5 x 4 x 3 x 2 x 1 x 1 = 324.84\n"
     ]
    }
   ],
   "source": [
    "fatorial = 1\n",
    "contador = float(input(\"dé um numero: \"))\n",
    "print(contador,end=\"! = \")\n",
    "\n",
    "while contador > 1:\n",
    "    print('%d x '%contador, end='') \n",
    "    fatorial *= contador\n",
    "    contador -= 1\n",
    "print(\"1 =\",round(fatorial,2))\n"
   ]
  }
 ],
 "metadata": {
  "kernelspec": {
   "display_name": "Python 3",
   "language": "python",
   "name": "python3"
  },
  "language_info": {
   "codemirror_mode": {
    "name": "ipython",
    "version": 3
   },
   "file_extension": ".py",
   "mimetype": "text/x-python",
   "name": "python",
   "nbconvert_exporter": "python",
   "pygments_lexer": "ipython3",
   "version": "3.8.5"
  }
 },
 "nbformat": 4,
 "nbformat_minor": 4
}
